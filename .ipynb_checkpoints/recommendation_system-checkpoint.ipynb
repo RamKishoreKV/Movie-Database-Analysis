{
 "cells": [
  {
   "cell_type": "code",
   "execution_count": 1,
   "id": "d5275b83-7aa1-49c5-9b1a-bc7660a0e634",
   "metadata": {},
   "outputs": [],
   "source": [
    "from sklearn.feature_extraction.text import TfidfVectorizer\n",
    "import pandas as pd\n",
    "\n",
    "df=pd.read_csv(\"merged_movies2.csv\")\n",
    "#df.head(5)"
   ]
  },
  {
   "cell_type": "code",
   "execution_count": 2,
   "id": "720578ce-4082-4597-8ccb-2b35de74460b",
   "metadata": {},
   "outputs": [],
   "source": [
    "#preprocessing\n",
    "df['overview'] = df['overview'].fillna('')\n",
    "df['title'] = df['title'].str.strip().str.lower().str.replace('[^a-zA-Z0-9]', '', regex=True)\n"
   ]
  },
  {
   "cell_type": "code",
   "execution_count": 3,
   "id": "e1160971-fa06-45b4-8d2a-8c70462fbb6d",
   "metadata": {},
   "outputs": [],
   "source": [
    "#tfidf matrix creation\n",
    "tfidf = TfidfVectorizer(stop_words='english')\n",
    "tfidfmatrix = tfidf.fit_transform(df['overview'])\n",
    "# print(tfidfmatrix.shape)\n",
    "# print(tfidfmatrix)"
   ]
  },
  {
   "cell_type": "code",
   "execution_count": 4,
   "id": "f4536fac-4bb0-46ca-be73-8639b8032f50",
   "metadata": {},
   "outputs": [],
   "source": [
    "#calculating cosine similarity\n",
    "from sklearn.metrics.pairwise import cosine_similarity\n",
    "cosinesim = cosine_similarity(tfidfmatrix)\n",
    "\n",
    "#print(cosinesim)\n"
   ]
  },
  {
   "cell_type": "code",
   "execution_count": 5,
   "id": "6b437f88-8d99-49c3-88fd-5de6178bec95",
   "metadata": {},
   "outputs": [],
   "source": [
    "#recommendation function\n",
    "def recommendation_fn(title):\n",
    "    title = title.lower().strip()\n",
    "    if title not in df['title'].values:\n",
    "        return f\"No recommendations found for '{titlem}'\" \n",
    "    else:\n",
    "        idx = df.index[df['title'] == title][0]\n",
    "        print(idx)\n",
    "        cosscore = list(enumerate(cosinesim[idx]))\n",
    "        #print(cosscore)\n",
    "        cosscore = sorted(cosscore, key=lambda x: x[1], reverse=True)\n",
    "        cosscore = cosscore[1:6]\n",
    "        outputindex = [i[0] for i in cosscore]\n",
    "        return df['title'].iloc[outputindex].tolist()\n"
   ]
  },
  {
   "cell_type": "code",
   "execution_count": 6,
   "id": "899c3bc0-e267-4656-9599-a3cbfdf31453",
   "metadata": {},
   "outputs": [
    {
     "name": "stdout",
     "output_type": "stream",
     "text": [
      "978\n",
      "['spiderman', 'spiderman3', 'thetakingofpelhamonetwothree', 'arachnophobia', 'spiderman2']\n"
     ]
    }
   ],
   "source": [
    "print(recommendation_fn('spiderman'))"
   ]
  },
  {
   "cell_type": "code",
   "execution_count": 7,
   "id": "57e35d28-1647-461b-882b-d8fd02c924de",
   "metadata": {},
   "outputs": [
    {
     "name": "stdout",
     "output_type": "stream",
     "text": [
      "['spiderman', 'spiderman3', 'spiderman2', 'thetakingofpelhamonetwothree', 'arachnophobia']\n"
     ]
    }
   ],
   "source": [
    "\n",
    "#weighted mean calculation\n",
    "def weighted_mean_rating(x):\n",
    "    v = x['vote_count']\n",
    "    R = x['vote_average']\n",
    "    c = df['vote_average'].mean() \n",
    "    m = df['vote_count'].mean()  \n",
    "    return (v / (v + m) * R) + (m / (m + v) * c)\n",
    "df['vote_count'] = pd.to_numeric(df['vote_count'])\n",
    "df['vote_average'] = pd.to_numeric(df['vote_average'])\n",
    "df['weighted_rating'] = df.apply(lambda x: weighted_mean_rating(x), axis=1)\n",
    "\n",
    "#recommendation function which includes rating\n",
    "def recommendationrating_fn(title):\n",
    "    title = title.lower().strip()\n",
    "    if title not in df['title'].str.lower().values:\n",
    "        return f\"No recommendations found for '{title}'\"\n",
    "    else:\n",
    "        idx = df.index[df['title'].str.lower() == title].tolist()[0]\n",
    "        cosscore = list(enumerate(cosinesim[idx]))\n",
    "        cosscore = sorted(cosscore, key=lambda x: x[1], reverse=True)[1:]\n",
    "        moviei = [i[0] for i in cosscore]\n",
    "        similarityi = [i[1] for i in cosscore]\n",
    "        recommendations = df.iloc[moviei][['title', 'weighted_rating']].copy()\n",
    "        recommendations['similarity_score'] = similarityi\n",
    "        recommendations['combined_score'] = recommendations['similarity_score'] * recommendations['weighted_rating']\n",
    "        recommendations = recommendations.sort_values('combined_score', ascending=False).head(5)       \n",
    "        return recommendations['title'].tolist()\n",
    "\n",
    "recommended_titles = recommendationrating_fn('spiderman')\n",
    "print(recommended_titles)"
   ]
  },
  {
   "cell_type": "code",
   "execution_count": null,
   "id": "6d5eecf7-5ea0-43d9-b282-a22dd4cc8486",
   "metadata": {},
   "outputs": [],
   "source": []
  },
  {
   "cell_type": "code",
   "execution_count": null,
   "id": "f2a32fd3-51c5-4148-8019-be510f64f44a",
   "metadata": {},
   "outputs": [],
   "source": []
  }
 ],
 "metadata": {
  "kernelspec": {
   "display_name": "Python 3 (ipykernel)",
   "language": "python",
   "name": "python3"
  },
  "language_info": {
   "codemirror_mode": {
    "name": "ipython",
    "version": 3
   },
   "file_extension": ".py",
   "mimetype": "text/x-python",
   "name": "python",
   "nbconvert_exporter": "python",
   "pygments_lexer": "ipython3",
   "version": "3.11.4"
  }
 },
 "nbformat": 4,
 "nbformat_minor": 5
}
