{
 "cells": [
  {
   "cell_type": "code",
   "execution_count": 1,
   "id": "0333326b-4bb0-4665-979c-e6b52597e9b2",
   "metadata": {
    "tags": []
   },
   "outputs": [],
   "source": [
    "import spacy\n",
    "from pprint import pprint\n",
    "import pandas as pd\n",
    "from collections import Counter"
   ]
  },
  {
   "cell_type": "code",
   "execution_count": 2,
   "id": "53c4f1cc-4ecd-480a-838a-0fd5246461b5",
   "metadata": {
    "tags": []
   },
   "outputs": [],
   "source": [
    "nlp = spacy.load(\"en_core_web_sm\")"
   ]
  },
  {
   "cell_type": "code",
   "execution_count": 7,
   "id": "ce97326c-f22e-4947-b04c-1e7bbbe0d46e",
   "metadata": {
    "tags": []
   },
   "outputs": [],
   "source": [
    "def movie_reader(file):\n",
    "    movies = {}\n",
    "    with open(file, 'rb') as m:\n",
    "        movie_data = pd.read_csv(m)\n",
    "    for row in movie_data.iterrows():\n",
    "        if 'TV Movie' not in row[1]['genres']:\n",
    "            if row[1]['runtime'] > 45 and row[1]['title'] not in movies:\n",
    "                if pd.isnull(row[1]['plot']) or len(str(row[1]['plot'])) < len(str(row[1]['overview'])):\n",
    "                    movies[row[1]['title']] = row[1]['overview']\n",
    "                else:\n",
    "                    movies[row[1]['title']] = row[1]['plot']\n",
    "            elif row[1]['runtime'] > 45 and row[1]['title'] in movies:\n",
    "                if pd.isnull(row[1]['plot']) or len(str(row[1]['plot'])) < len(str(row[1]['overview'])):\n",
    "                    x = row[1]['title'] + '_' + row[1]['release_date'][-4:]\n",
    "                \n",
    "                    movies[x] = row[1]['overview']\n",
    "                else:\n",
    "                    x = row[1]['title'] + '_' + row[1]['release_date'][-4:]\n",
    "                    movies[x] = row[1]['plot']  \n",
    "    return movie_data, movies"
   ]
  },
  {
   "cell_type": "code",
   "execution_count": 8,
   "id": "51548489-ac79-49f1-80d6-c68501e7e4a1",
   "metadata": {
    "tags": []
   },
   "outputs": [
    {
     "ename": "UnicodeDecodeError",
     "evalue": "'utf-8' codec can't decode byte 0xa0 in position 164740: invalid start byte",
     "output_type": "error",
     "traceback": [
      "\u001b[1;31m---------------------------------------------------------------------------\u001b[0m",
      "\u001b[1;31mUnicodeDecodeError\u001b[0m                        Traceback (most recent call last)",
      "Cell \u001b[1;32mIn[8], line 1\u001b[0m\n\u001b[1;32m----> 1\u001b[0m movie_data, movies \u001b[38;5;241m=\u001b[39m \u001b[43mmovie_reader\u001b[49m\u001b[43m(\u001b[49m\u001b[38;5;124;43m'\u001b[39;49m\u001b[38;5;124;43mmerged_movies2.csv\u001b[39;49m\u001b[38;5;124;43m'\u001b[39;49m\u001b[43m)\u001b[49m\n",
      "Cell \u001b[1;32mIn[7], line 4\u001b[0m, in \u001b[0;36mmovie_reader\u001b[1;34m(file)\u001b[0m\n\u001b[0;32m      2\u001b[0m movies \u001b[38;5;241m=\u001b[39m {}\n\u001b[0;32m      3\u001b[0m \u001b[38;5;28;01mwith\u001b[39;00m \u001b[38;5;28mopen\u001b[39m(file, \u001b[38;5;124m'\u001b[39m\u001b[38;5;124mrb\u001b[39m\u001b[38;5;124m'\u001b[39m) \u001b[38;5;28;01mas\u001b[39;00m m:\n\u001b[1;32m----> 4\u001b[0m     movie_data \u001b[38;5;241m=\u001b[39m \u001b[43mpd\u001b[49m\u001b[38;5;241;43m.\u001b[39;49m\u001b[43mread_csv\u001b[49m\u001b[43m(\u001b[49m\u001b[43mm\u001b[49m\u001b[43m)\u001b[49m\n\u001b[0;32m      5\u001b[0m \u001b[38;5;28;01mfor\u001b[39;00m row \u001b[38;5;129;01min\u001b[39;00m movie_data\u001b[38;5;241m.\u001b[39miterrows():\n\u001b[0;32m      6\u001b[0m     \u001b[38;5;28;01mif\u001b[39;00m \u001b[38;5;124m'\u001b[39m\u001b[38;5;124mTV Movie\u001b[39m\u001b[38;5;124m'\u001b[39m \u001b[38;5;129;01mnot\u001b[39;00m \u001b[38;5;129;01min\u001b[39;00m row[\u001b[38;5;241m1\u001b[39m][\u001b[38;5;124m'\u001b[39m\u001b[38;5;124mgenres\u001b[39m\u001b[38;5;124m'\u001b[39m]:\n",
      "File \u001b[1;32m~\\anaconda3\\Lib\\site-packages\\pandas\\util\\_decorators.py:211\u001b[0m, in \u001b[0;36mdeprecate_kwarg.<locals>._deprecate_kwarg.<locals>.wrapper\u001b[1;34m(*args, **kwargs)\u001b[0m\n\u001b[0;32m    209\u001b[0m     \u001b[38;5;28;01melse\u001b[39;00m:\n\u001b[0;32m    210\u001b[0m         kwargs[new_arg_name] \u001b[38;5;241m=\u001b[39m new_arg_value\n\u001b[1;32m--> 211\u001b[0m \u001b[38;5;28;01mreturn\u001b[39;00m \u001b[43mfunc\u001b[49m\u001b[43m(\u001b[49m\u001b[38;5;241;43m*\u001b[39;49m\u001b[43margs\u001b[49m\u001b[43m,\u001b[49m\u001b[43m \u001b[49m\u001b[38;5;241;43m*\u001b[39;49m\u001b[38;5;241;43m*\u001b[39;49m\u001b[43mkwargs\u001b[49m\u001b[43m)\u001b[49m\n",
      "File \u001b[1;32m~\\anaconda3\\Lib\\site-packages\\pandas\\util\\_decorators.py:331\u001b[0m, in \u001b[0;36mdeprecate_nonkeyword_arguments.<locals>.decorate.<locals>.wrapper\u001b[1;34m(*args, **kwargs)\u001b[0m\n\u001b[0;32m    325\u001b[0m \u001b[38;5;28;01mif\u001b[39;00m \u001b[38;5;28mlen\u001b[39m(args) \u001b[38;5;241m>\u001b[39m num_allow_args:\n\u001b[0;32m    326\u001b[0m     warnings\u001b[38;5;241m.\u001b[39mwarn(\n\u001b[0;32m    327\u001b[0m         msg\u001b[38;5;241m.\u001b[39mformat(arguments\u001b[38;5;241m=\u001b[39m_format_argument_list(allow_args)),\n\u001b[0;32m    328\u001b[0m         \u001b[38;5;167;01mFutureWarning\u001b[39;00m,\n\u001b[0;32m    329\u001b[0m         stacklevel\u001b[38;5;241m=\u001b[39mfind_stack_level(),\n\u001b[0;32m    330\u001b[0m     )\n\u001b[1;32m--> 331\u001b[0m \u001b[38;5;28;01mreturn\u001b[39;00m \u001b[43mfunc\u001b[49m\u001b[43m(\u001b[49m\u001b[38;5;241;43m*\u001b[39;49m\u001b[43margs\u001b[49m\u001b[43m,\u001b[49m\u001b[43m \u001b[49m\u001b[38;5;241;43m*\u001b[39;49m\u001b[38;5;241;43m*\u001b[39;49m\u001b[43mkwargs\u001b[49m\u001b[43m)\u001b[49m\n",
      "File \u001b[1;32m~\\anaconda3\\Lib\\site-packages\\pandas\\io\\parsers\\readers.py:950\u001b[0m, in \u001b[0;36mread_csv\u001b[1;34m(filepath_or_buffer, sep, delimiter, header, names, index_col, usecols, squeeze, prefix, mangle_dupe_cols, dtype, engine, converters, true_values, false_values, skipinitialspace, skiprows, skipfooter, nrows, na_values, keep_default_na, na_filter, verbose, skip_blank_lines, parse_dates, infer_datetime_format, keep_date_col, date_parser, dayfirst, cache_dates, iterator, chunksize, compression, thousands, decimal, lineterminator, quotechar, quoting, doublequote, escapechar, comment, encoding, encoding_errors, dialect, error_bad_lines, warn_bad_lines, on_bad_lines, delim_whitespace, low_memory, memory_map, float_precision, storage_options)\u001b[0m\n\u001b[0;32m    935\u001b[0m kwds_defaults \u001b[38;5;241m=\u001b[39m _refine_defaults_read(\n\u001b[0;32m    936\u001b[0m     dialect,\n\u001b[0;32m    937\u001b[0m     delimiter,\n\u001b[1;32m   (...)\u001b[0m\n\u001b[0;32m    946\u001b[0m     defaults\u001b[38;5;241m=\u001b[39m{\u001b[38;5;124m\"\u001b[39m\u001b[38;5;124mdelimiter\u001b[39m\u001b[38;5;124m\"\u001b[39m: \u001b[38;5;124m\"\u001b[39m\u001b[38;5;124m,\u001b[39m\u001b[38;5;124m\"\u001b[39m},\n\u001b[0;32m    947\u001b[0m )\n\u001b[0;32m    948\u001b[0m kwds\u001b[38;5;241m.\u001b[39mupdate(kwds_defaults)\n\u001b[1;32m--> 950\u001b[0m \u001b[38;5;28;01mreturn\u001b[39;00m \u001b[43m_read\u001b[49m\u001b[43m(\u001b[49m\u001b[43mfilepath_or_buffer\u001b[49m\u001b[43m,\u001b[49m\u001b[43m \u001b[49m\u001b[43mkwds\u001b[49m\u001b[43m)\u001b[49m\n",
      "File \u001b[1;32m~\\anaconda3\\Lib\\site-packages\\pandas\\io\\parsers\\readers.py:611\u001b[0m, in \u001b[0;36m_read\u001b[1;34m(filepath_or_buffer, kwds)\u001b[0m\n\u001b[0;32m    608\u001b[0m     \u001b[38;5;28;01mreturn\u001b[39;00m parser\n\u001b[0;32m    610\u001b[0m \u001b[38;5;28;01mwith\u001b[39;00m parser:\n\u001b[1;32m--> 611\u001b[0m     \u001b[38;5;28;01mreturn\u001b[39;00m \u001b[43mparser\u001b[49m\u001b[38;5;241;43m.\u001b[39;49m\u001b[43mread\u001b[49m\u001b[43m(\u001b[49m\u001b[43mnrows\u001b[49m\u001b[43m)\u001b[49m\n",
      "File \u001b[1;32m~\\anaconda3\\Lib\\site-packages\\pandas\\io\\parsers\\readers.py:1778\u001b[0m, in \u001b[0;36mTextFileReader.read\u001b[1;34m(self, nrows)\u001b[0m\n\u001b[0;32m   1771\u001b[0m nrows \u001b[38;5;241m=\u001b[39m validate_integer(\u001b[38;5;124m\"\u001b[39m\u001b[38;5;124mnrows\u001b[39m\u001b[38;5;124m\"\u001b[39m, nrows)\n\u001b[0;32m   1772\u001b[0m \u001b[38;5;28;01mtry\u001b[39;00m:\n\u001b[0;32m   1773\u001b[0m     \u001b[38;5;66;03m# error: \"ParserBase\" has no attribute \"read\"\u001b[39;00m\n\u001b[0;32m   1774\u001b[0m     (\n\u001b[0;32m   1775\u001b[0m         index,\n\u001b[0;32m   1776\u001b[0m         columns,\n\u001b[0;32m   1777\u001b[0m         col_dict,\n\u001b[1;32m-> 1778\u001b[0m     ) \u001b[38;5;241m=\u001b[39m \u001b[38;5;28;43mself\u001b[39;49m\u001b[38;5;241;43m.\u001b[39;49m\u001b[43m_engine\u001b[49m\u001b[38;5;241;43m.\u001b[39;49m\u001b[43mread\u001b[49m\u001b[43m(\u001b[49m\u001b[43m  \u001b[49m\u001b[38;5;66;43;03m# type: ignore[attr-defined]\u001b[39;49;00m\n\u001b[0;32m   1779\u001b[0m \u001b[43m        \u001b[49m\u001b[43mnrows\u001b[49m\n\u001b[0;32m   1780\u001b[0m \u001b[43m    \u001b[49m\u001b[43m)\u001b[49m\n\u001b[0;32m   1781\u001b[0m \u001b[38;5;28;01mexcept\u001b[39;00m \u001b[38;5;167;01mException\u001b[39;00m:\n\u001b[0;32m   1782\u001b[0m     \u001b[38;5;28mself\u001b[39m\u001b[38;5;241m.\u001b[39mclose()\n",
      "File \u001b[1;32m~\\anaconda3\\Lib\\site-packages\\pandas\\io\\parsers\\c_parser_wrapper.py:230\u001b[0m, in \u001b[0;36mCParserWrapper.read\u001b[1;34m(self, nrows)\u001b[0m\n\u001b[0;32m    228\u001b[0m \u001b[38;5;28;01mtry\u001b[39;00m:\n\u001b[0;32m    229\u001b[0m     \u001b[38;5;28;01mif\u001b[39;00m \u001b[38;5;28mself\u001b[39m\u001b[38;5;241m.\u001b[39mlow_memory:\n\u001b[1;32m--> 230\u001b[0m         chunks \u001b[38;5;241m=\u001b[39m \u001b[38;5;28;43mself\u001b[39;49m\u001b[38;5;241;43m.\u001b[39;49m\u001b[43m_reader\u001b[49m\u001b[38;5;241;43m.\u001b[39;49m\u001b[43mread_low_memory\u001b[49m\u001b[43m(\u001b[49m\u001b[43mnrows\u001b[49m\u001b[43m)\u001b[49m\n\u001b[0;32m    231\u001b[0m         \u001b[38;5;66;03m# destructive to chunks\u001b[39;00m\n\u001b[0;32m    232\u001b[0m         data \u001b[38;5;241m=\u001b[39m _concatenate_chunks(chunks)\n",
      "File \u001b[1;32m~\\anaconda3\\Lib\\site-packages\\pandas\\_libs\\parsers.pyx:808\u001b[0m, in \u001b[0;36mpandas._libs.parsers.TextReader.read_low_memory\u001b[1;34m()\u001b[0m\n",
      "File \u001b[1;32m~\\anaconda3\\Lib\\site-packages\\pandas\\_libs\\parsers.pyx:866\u001b[0m, in \u001b[0;36mpandas._libs.parsers.TextReader._read_rows\u001b[1;34m()\u001b[0m\n",
      "File \u001b[1;32m~\\anaconda3\\Lib\\site-packages\\pandas\\_libs\\parsers.pyx:852\u001b[0m, in \u001b[0;36mpandas._libs.parsers.TextReader._tokenize_rows\u001b[1;34m()\u001b[0m\n",
      "File \u001b[1;32m~\\anaconda3\\Lib\\site-packages\\pandas\\_libs\\parsers.pyx:1965\u001b[0m, in \u001b[0;36mpandas._libs.parsers.raise_parser_error\u001b[1;34m()\u001b[0m\n",
      "\u001b[1;31mUnicodeDecodeError\u001b[0m: 'utf-8' codec can't decode byte 0xa0 in position 164740: invalid start byte"
     ]
    }
   ],
   "source": [
    "movie_data, movies = movie_reader('merged_movies2.csv')"
   ]
  },
  {
   "cell_type": "code",
   "execution_count": null,
   "id": "18fada2b-5aa6-41bd-9b1b-a546b286c3e0",
   "metadata": {
    "tags": []
   },
   "outputs": [],
   "source": [
    "#print(movies['batstar21'])"
   ]
  },
  {
   "cell_type": "code",
   "execution_count": null,
   "id": "ee0b594c-1b16-4458-a75f-ba84cdf7f980",
   "metadata": {
    "tags": []
   },
   "outputs": [],
   "source": [
    "def token_getter(movies)\n",
    "    movie_tokens = {}\n",
    "\n",
    "    for movie in movies:\n",
    "        #movie_tokens[movie] = []\n",
    "        about_movie = nlp(movies[movie])\n",
    "        words = [token.lemma_.lower() for token in about_movie if not token.is_stop and not token.is_punct]\n",
    "        movie_tokens[movie] = Counter(words)\n",
    "    return movie_tokens"
   ]
  },
  {
   "cell_type": "code",
   "execution_count": null,
   "id": "264d65dd-ea36-4cb6-ae0e-92dbeb509ee3",
   "metadata": {},
   "outputs": [],
   "source": [
    "movie_tokens = token_getter(movies)"
   ]
  },
  {
   "cell_type": "code",
   "execution_count": null,
   "id": "90012868-46e8-42fa-a3a2-038a75b4a338",
   "metadata": {},
   "outputs": [],
   "source": [
    "genre_words = {'Western':['cowboy', 'outlaw', 'saloon', 'gunslinger', 'sheriff', 'horse', 'revolver', 'stagecoach', 'frontier', 'ranch', 'train', 'robbery', 'indians', \n",
    "                          'cattle', 'drive', 'wagon', 'rifle', 'gunfight', 'posse', 'marshal', 'pioneer', 'shoot', 'lawman'],\n",
    "              'Crime': ['frame','thief', 'mystery','smuggle', 'gang', 'illegal','lt','lieutenant','kingpin','ruthless','narcotics', 'prison', 'detention','gun', 'police', 'officer', 'shoot', 'bank robbery', \n",
    "                        'robbery', 'detective', 'femme', 'fatale', 'revenge','spree','corruption','undercover','stakeout', 'vigilante'\n",
    "                        'heist', 'drug', 'gangster', 'murder', 'police', 'burglary', 'investigation', 'criminal', 'fugitive', 'kill', 'mafia', 'mob', 'jail', 'investigate'],\n",
    "              'Fantasy': ['save','return','heaven', 'angel','queen','tyranny', 'magic', 'wizard', 'knight', 'sword', \n",
    "                          'dragon', 'supernatural', 'princess', 'pirate', 'witch', 'monster', 'king', 'quest', 'prince', 'prophecy', 'evil',\n",
    "                         'ancient', 'duel', 'fight', 'rescue', 'treasure', 'journey', 'warrior'],\n",
    "              'Science Fiction': ['save','laser','computer', 'dystopian','alien', 'nuclear', 'spaceship', 'robot', 'planet', \n",
    "                                  'star', 'cyborg', 'astronaut', 'explore', 'invention', 'monster', 'space', 'creature'\n",
    "                                 'space', 'starship','station', 'artificial', 'intelligence', 'invent', 'extraterrestrial', \n",
    "                                  'future', 'apocalypse', 'time', 'machine', 'alien invasion', 'transformation', 'scientist', 'teleport'],\n",
    "              'Horror': ['slash','revenge','vengeance','strand','return','hideous','demonic','strange', 'die', 'ghost', 'camping', 'kill', 'vampire', 'werewolf', 'scream', 'stab', 'monster', 'creature',\n",
    "                         'legend', 'demon', 'blood', 'dead', 'zombie', 'supernatural', 'evil', 'capture', 'halloween',\n",
    "                        'insanity', 'fang', 'claw', 'killer', 'murder', 'alien', 'transformation', 'mummy', 'poe', 'mysterious', 'tomb', 'frightening', 'fate', 'nasty', 'remote'],\n",
    "              'Sports': ['college','athlete', 'baseball', 'football', 'coach', 'game', 'training', 'Olympics', 'team', 'league', 'ball', 'hockey', 'basketball', 'win', 'lose', 'victory',\n",
    "                        'championship', 'trophy', 'defeat', 'true', 'base'],\n",
    "              'Historical': ['voyage','queen', 'king','saga', 'era', 'life', 'A.D.', 'during', 'war', 'period', 'soldier', 'B.C.', 'year', \n",
    "                             'president', 'figure', 'invasion', 'country', 'enemy', 'courage', 'invention', 'dramatization', \n",
    "                             'victory', 'defeat', 'true', 'base', 'midst', 'battle', 'conquer', 'century', 'adaptation', 'fate', 'legend'],\n",
    "              'Romance': ['beauty','wedding','fall','misunderstanding', 'prank', 'romance', 'date', 'song', 'scheme', 'love', \n",
    "                          'marriage', 'wife', 'date', 'music', 'beautiful', 'relationship', 'kiss',\n",
    "                         'boyfriend', 'girlfriend', 'husband', 'happy', 'single', 'baby', 'proposal', 'marry', 'pregnant'],\n",
    "              'Action/Adventure': ['warrior','voyage','save','travel','superhero','fight', 'sword', 'pirate', 'soldier', 'duel', 'rescue', 'quest', \n",
    "                                   'gun', 'escape', 'revenge', 'plane', 'kill', 'shoot', 'treasure', 'victory', \n",
    "                                   'spy', 'war', 'courage', 'defeat', 'victory', 'search', 'safe', 'threaten', 'threat', 'journey', 'legend'],\n",
    "              'Thrilller': ['abduct','frame','theif', 'vengeance','mystery', 'vigilante','strand','discover','ruthless','spy', 'fight', 'plan', 'escape', 'gun', 'kill', 'war', 'revenge', \n",
    "                            'plane', 'danger', 'shoot', 'treasure', 'victory', 'soldier', 'invasion',\n",
    "                           'enemy', 'courage', 'death', 'defeat', 'victory', 'car chase', 'mysterious', 'threaten', 'threat', \n",
    "                            'remote', 'race', 'capture', 'investigate'],\n",
    "              'Comedy': ['trip','school','student','trouble','eventful','deadpan','family', 'comedian', 'misunderstanding', \n",
    "                         'prank', 'romance', 'scheme', 'slapstick', 'wrong', 'ridiculous', 'gag', 'situation',\n",
    "                         'skit', 'routine', 'stand', 'up', 'live', 'deliver', 'sketch', 'bumbling', 'college'],\n",
    "              'War': ['lt','lieutenant','attack', 'soldier', 'sergeant', \n",
    "                      'general', 'war', 'army', 'conquer', 'operation', 'bomb', 'plane', 'tank', 'nuclear', 'marine', 'sgt', 'battle'],\n",
    "              'Documentary': ['issue','job','story','scene','celebrate','interview','discover', 'exploration', 'effect',\n",
    "                              'document', 'portrayal', 'depict', 'hypothetical', 'study', 'investigation', 'look', \n",
    "                              'scientist', 'follow', 'footage', 'search', 'journey', 'chronicle', 'develop', \n",
    "                              'life', 'center', 'tribute', 'investigate', 'remarkable', 'portrait', 'introduction','view'],\n",
    "              'Musical': ['adaptation', 'stage', 'song', 'sing', 'dance','adapt', 'band'],  \n",
    "              'Drama': ['trip','school','student','trouble','adaptation','adapt','eventful','harrowing', 'affair', 'anguish', 'insanity', 'fail', 'confront', 'pregnant', 'mysterious', \n",
    "                        'fate', 'life', 'saga', 'search', 'mother', 'father', 'death', 'center', \n",
    "                        'clash', 'tradition', 'conform', 'conformity', 'friendship', 'relationship', 'discover', 'family', 'abuse', 'society', 'tyranny', 'remarkable', 'college']}\n"
   ]
  },
  {
   "cell_type": "code",
   "execution_count": null,
   "id": "249f2619-3eef-417f-8956-ead1a5039dfa",
   "metadata": {
    "tags": []
   },
   "outputs": [],
   "source": [
    "'''\n",
    "x = 0\n",
    "for key in genre_words:\n",
    "    x = x + len(genre_words[key])\n",
    "print(x)\n",
    "'''\n",
    "\n",
    "genre_tokens = {}\n",
    "\n",
    "for key in genre_words:\n",
    "    genre_tokens[key] = []\n",
    "    s = ' '.join(genre_words[key])\n",
    "    genre_tokens[key].append(nlp(s))\n",
    "#print(genre_tokens)        "
   ]
  },
  {
   "cell_type": "code",
   "execution_count": null,
   "id": "fd602770-bec1-4af3-b33b-38e4707c7866",
   "metadata": {
    "tags": []
   },
   "outputs": [],
   "source": [
    "def genre_picker(data):\n",
    "    movie_genre_data = {}\n",
    "    for key in data:\n",
    "        genres = {}\n",
    "        for g in genre_words:\n",
    "            words = []\n",
    "            for word in data[key]:                       \n",
    "                if word in genre_words[g]:\n",
    "                    words.append((word, data[key][word]))\n",
    "            genres[g] = sorted(list(set(words)), key=lambda x: x[1])[::-1]\n",
    "        movie_genre_data[key] = genres\n",
    "    return movie_genre_data"
   ]
  },
  {
   "cell_type": "code",
   "execution_count": null,
   "id": "b8dad357-0fd1-44eb-9589-64666ecabc93",
   "metadata": {
    "tags": []
   },
   "outputs": [],
   "source": [
    "movie_genre_data = genre_picker(movie_tokens)"
   ]
  },
  {
   "cell_type": "code",
   "execution_count": null,
   "id": "dc3d2f7c-e95a-474e-ad42-c759a7a9f3d0",
   "metadata": {
    "tags": []
   },
   "outputs": [],
   "source": [
    "#print(movie_genre_data['sands_of_iwo_jima'])"
   ]
  },
  {
   "cell_type": "code",
   "execution_count": null,
   "id": "358c0d97-871e-4f09-8bc6-f68e44ca03dd",
   "metadata": {
    "tags": []
   },
   "outputs": [],
   "source": [
    "def genre_finder(data):\n",
    "    movie_genres = {}\n",
    "    \n",
    "    for key in data:\n",
    "        words = []\n",
    "        for i in data[key]:\n",
    "            for j in data[key][i]:\n",
    "                words.append(j)\n",
    "        list_words = list(set(words))\n",
    "        #print(key, list_words)\n",
    "        total = 0\n",
    "        for i in list_words:\n",
    "            #print(i)\n",
    "            total = total+i[1]\n",
    "        #print(total)\n",
    "        genres = {}\n",
    "   \n",
    "        \n",
    "        for i in data[key]:\n",
    "            score = 0\n",
    "            for j in data[key][i]:\n",
    "                score = score + j[1]\n",
    "            percentage = score / total\n",
    "            genres[i] = percentage\n",
    "        movie_genres[key] = genres\n",
    "\n",
    "    return movie_genres\n"
   ]
  },
  {
   "cell_type": "code",
   "execution_count": null,
   "id": "f7cf15e7-0435-45ca-b97e-d5e7a1b0c7df",
   "metadata": {},
   "outputs": [],
   "source": [
    "genres = genre_finder(movie_genre_data)"
   ]
  },
  {
   "cell_type": "code",
   "execution_count": null,
   "id": "2a89575f-19a1-4dae-96a0-88015e6bb76d",
   "metadata": {
    "tags": []
   },
   "outputs": [],
   "source": [
    "def final_func(genres, movie_data):\n",
    "\n",
    "    final_movies = []\n",
    "\n",
    "    \n",
    "    \n",
    "        \n",
    "        \n",
    "    for row in movie_data.iterrows():\n",
    "        movie_dict = {}\n",
    "        if 'TV Movie' not in row[1]['genres']:\n",
    "                \n",
    "            if row[1]['runtime'] > 45:\n",
    "                g = row[1]['title']\n",
    "                movie_dict['title'] = g\n",
    "                genre_list = []\n",
    "                for i in genres[g]:\n",
    "                \n",
    "                    if genres[g][i] > 0.25:\n",
    "                        genre_list.append(i)\n",
    "                movie_dict['genres'] = genre_list\n",
    "                movie_dict['release_date'] = row[1]['release_date']\n",
    "                if pd.isnull(row[1]['box_office']):\n",
    "                    movie_dict['box_office'] = 'N/A'\n",
    "                else:\n",
    "                    movie_dict['box_office'] = row[1]['box_office']\n",
    "        final_movies.append(movie_dict)\n",
    "                        \n",
    "    return final_movies\n",
    "                \n",
    "        \n",
    "    "
   ]
  },
  {
   "cell_type": "code",
   "execution_count": null,
   "id": "a8e30950-854b-4ed7-9a3f-e82d0e212f30",
   "metadata": {},
   "outputs": [],
   "source": [
    "final_movies = final_func(genres, movie_data) \n",
    "print(final_movies[12])"
   ]
  },
  {
   "cell_type": "code",
   "execution_count": null,
   "id": "3ffa5508-ff78-4145-81bc-9acd4d8b9b38",
   "metadata": {},
   "outputs": [],
   "source": [
    "import csv\n",
    "f = open('final_movies.csv', 'w')\n",
    "writer = csv.writer(f)\n",
    "writer.writerow(['title', 'genres', 'release_date', 'box_office'])\n",
    "for dictionary in final_movies:\n",
    "    print(dictionary.values())\n",
    "    writer.writerow(dictionary.values())\n",
    "f.close()"
   ]
  },
  {
   "cell_type": "code",
   "execution_count": null,
   "id": "948bd79f-5c30-42df-b19d-8dae368b1851",
   "metadata": {},
   "outputs": [],
   "source": []
  }
 ],
 "metadata": {
  "kernelspec": {
   "display_name": "Python 3 (ipykernel)",
   "language": "python",
   "name": "python3"
  },
  "language_info": {
   "codemirror_mode": {
    "name": "ipython",
    "version": 3
   },
   "file_extension": ".py",
   "mimetype": "text/x-python",
   "name": "python",
   "nbconvert_exporter": "python",
   "pygments_lexer": "ipython3",
   "version": "3.11.4"
  }
 },
 "nbformat": 4,
 "nbformat_minor": 5
}
